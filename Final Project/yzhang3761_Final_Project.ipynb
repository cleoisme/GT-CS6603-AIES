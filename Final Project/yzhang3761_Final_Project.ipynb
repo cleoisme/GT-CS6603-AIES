{
 "cells": [
  {
   "cell_type": "markdown",
   "id": "32f12e84",
   "metadata": {},
   "source": [
    "# Step 0 - Lib Imports"
   ]
  },
  {
   "cell_type": "code",
   "execution_count": 1,
   "id": "85ed418a",
   "metadata": {},
   "outputs": [],
   "source": [
    "import numpy as np\n",
    "import scipy as sp\n",
    "import pandas as pd\n",
    "import matplotlib as mpl\n",
    "import seaborn as sns\n",
    "import sklearn as skl\n",
    "import uuid\n",
    "from sklearn.model_selection import train_test_split\n",
    "from sklearn.preprocessing import MinMaxScaler\n",
    "import matplotlib.pyplot as plt"
   ]
  },
  {
   "cell_type": "code",
   "execution_count": 2,
   "id": "95100f1c",
   "metadata": {},
   "outputs": [
    {
     "data": {
      "text/html": [
       "<div>\n",
       "<style scoped>\n",
       "    .dataframe tbody tr th:only-of-type {\n",
       "        vertical-align: middle;\n",
       "    }\n",
       "\n",
       "    .dataframe tbody tr th {\n",
       "        vertical-align: top;\n",
       "    }\n",
       "\n",
       "    .dataframe thead th {\n",
       "        text-align: right;\n",
       "    }\n",
       "</style>\n",
       "<table border=\"1\" class=\"dataframe\">\n",
       "  <thead>\n",
       "    <tr style=\"text-align: right;\">\n",
       "      <th></th>\n",
       "      <th>Age</th>\n",
       "      <th>Attrition</th>\n",
       "      <th>BusinessTravel</th>\n",
       "      <th>DailyRate</th>\n",
       "      <th>Department</th>\n",
       "      <th>DistanceFromHome</th>\n",
       "      <th>Education</th>\n",
       "      <th>EducationField</th>\n",
       "      <th>EmployeeCount</th>\n",
       "      <th>EmployeeNumber</th>\n",
       "      <th>...</th>\n",
       "      <th>RelationshipSatisfaction</th>\n",
       "      <th>StandardHours</th>\n",
       "      <th>StockOptionLevel</th>\n",
       "      <th>TotalWorkingYears</th>\n",
       "      <th>TrainingTimesLastYear</th>\n",
       "      <th>WorkLifeBalance</th>\n",
       "      <th>YearsAtCompany</th>\n",
       "      <th>YearsInCurrentRole</th>\n",
       "      <th>YearsSinceLastPromotion</th>\n",
       "      <th>YearsWithCurrManager</th>\n",
       "    </tr>\n",
       "  </thead>\n",
       "  <tbody>\n",
       "    <tr>\n",
       "      <th>0</th>\n",
       "      <td>41</td>\n",
       "      <td>Yes</td>\n",
       "      <td>Travel_Rarely</td>\n",
       "      <td>1102</td>\n",
       "      <td>Sales</td>\n",
       "      <td>1</td>\n",
       "      <td>2</td>\n",
       "      <td>Life Sciences</td>\n",
       "      <td>1</td>\n",
       "      <td>1</td>\n",
       "      <td>...</td>\n",
       "      <td>1</td>\n",
       "      <td>80</td>\n",
       "      <td>0</td>\n",
       "      <td>8</td>\n",
       "      <td>0</td>\n",
       "      <td>1</td>\n",
       "      <td>6</td>\n",
       "      <td>4</td>\n",
       "      <td>0</td>\n",
       "      <td>5</td>\n",
       "    </tr>\n",
       "    <tr>\n",
       "      <th>1</th>\n",
       "      <td>49</td>\n",
       "      <td>No</td>\n",
       "      <td>Travel_Frequently</td>\n",
       "      <td>279</td>\n",
       "      <td>Research &amp; Development</td>\n",
       "      <td>8</td>\n",
       "      <td>1</td>\n",
       "      <td>Life Sciences</td>\n",
       "      <td>1</td>\n",
       "      <td>2</td>\n",
       "      <td>...</td>\n",
       "      <td>4</td>\n",
       "      <td>80</td>\n",
       "      <td>1</td>\n",
       "      <td>10</td>\n",
       "      <td>3</td>\n",
       "      <td>3</td>\n",
       "      <td>10</td>\n",
       "      <td>7</td>\n",
       "      <td>1</td>\n",
       "      <td>7</td>\n",
       "    </tr>\n",
       "    <tr>\n",
       "      <th>2</th>\n",
       "      <td>37</td>\n",
       "      <td>Yes</td>\n",
       "      <td>Travel_Rarely</td>\n",
       "      <td>1373</td>\n",
       "      <td>Research &amp; Development</td>\n",
       "      <td>2</td>\n",
       "      <td>2</td>\n",
       "      <td>Other</td>\n",
       "      <td>1</td>\n",
       "      <td>4</td>\n",
       "      <td>...</td>\n",
       "      <td>2</td>\n",
       "      <td>80</td>\n",
       "      <td>0</td>\n",
       "      <td>7</td>\n",
       "      <td>3</td>\n",
       "      <td>3</td>\n",
       "      <td>0</td>\n",
       "      <td>0</td>\n",
       "      <td>0</td>\n",
       "      <td>0</td>\n",
       "    </tr>\n",
       "    <tr>\n",
       "      <th>3</th>\n",
       "      <td>33</td>\n",
       "      <td>No</td>\n",
       "      <td>Travel_Frequently</td>\n",
       "      <td>1392</td>\n",
       "      <td>Research &amp; Development</td>\n",
       "      <td>3</td>\n",
       "      <td>4</td>\n",
       "      <td>Life Sciences</td>\n",
       "      <td>1</td>\n",
       "      <td>5</td>\n",
       "      <td>...</td>\n",
       "      <td>3</td>\n",
       "      <td>80</td>\n",
       "      <td>0</td>\n",
       "      <td>8</td>\n",
       "      <td>3</td>\n",
       "      <td>3</td>\n",
       "      <td>8</td>\n",
       "      <td>7</td>\n",
       "      <td>3</td>\n",
       "      <td>0</td>\n",
       "    </tr>\n",
       "    <tr>\n",
       "      <th>4</th>\n",
       "      <td>27</td>\n",
       "      <td>No</td>\n",
       "      <td>Travel_Rarely</td>\n",
       "      <td>591</td>\n",
       "      <td>Research &amp; Development</td>\n",
       "      <td>2</td>\n",
       "      <td>1</td>\n",
       "      <td>Medical</td>\n",
       "      <td>1</td>\n",
       "      <td>7</td>\n",
       "      <td>...</td>\n",
       "      <td>4</td>\n",
       "      <td>80</td>\n",
       "      <td>1</td>\n",
       "      <td>6</td>\n",
       "      <td>3</td>\n",
       "      <td>3</td>\n",
       "      <td>2</td>\n",
       "      <td>2</td>\n",
       "      <td>2</td>\n",
       "      <td>2</td>\n",
       "    </tr>\n",
       "  </tbody>\n",
       "</table>\n",
       "<p>5 rows × 35 columns</p>\n",
       "</div>"
      ],
      "text/plain": [
       "   Age Attrition     BusinessTravel  DailyRate              Department  \\\n",
       "0   41       Yes      Travel_Rarely       1102                   Sales   \n",
       "1   49        No  Travel_Frequently        279  Research & Development   \n",
       "2   37       Yes      Travel_Rarely       1373  Research & Development   \n",
       "3   33        No  Travel_Frequently       1392  Research & Development   \n",
       "4   27        No      Travel_Rarely        591  Research & Development   \n",
       "\n",
       "   DistanceFromHome  Education EducationField  EmployeeCount  EmployeeNumber  \\\n",
       "0                 1          2  Life Sciences              1               1   \n",
       "1                 8          1  Life Sciences              1               2   \n",
       "2                 2          2          Other              1               4   \n",
       "3                 3          4  Life Sciences              1               5   \n",
       "4                 2          1        Medical              1               7   \n",
       "\n",
       "   ...  RelationshipSatisfaction StandardHours  StockOptionLevel  \\\n",
       "0  ...                         1            80                 0   \n",
       "1  ...                         4            80                 1   \n",
       "2  ...                         2            80                 0   \n",
       "3  ...                         3            80                 0   \n",
       "4  ...                         4            80                 1   \n",
       "\n",
       "   TotalWorkingYears  TrainingTimesLastYear WorkLifeBalance  YearsAtCompany  \\\n",
       "0                  8                      0               1               6   \n",
       "1                 10                      3               3              10   \n",
       "2                  7                      3               3               0   \n",
       "3                  8                      3               3               8   \n",
       "4                  6                      3               3               2   \n",
       "\n",
       "  YearsInCurrentRole  YearsSinceLastPromotion  YearsWithCurrManager  \n",
       "0                  4                        0                     5  \n",
       "1                  7                        1                     7  \n",
       "2                  0                        0                     0  \n",
       "3                  7                        3                     0  \n",
       "4                  2                        2                     2  \n",
       "\n",
       "[5 rows x 35 columns]"
      ]
     },
     "execution_count": 2,
     "metadata": {},
     "output_type": "execute_result"
    }
   ],
   "source": [
    "df = pd.read_csv('IBM-HR-Employee-Attrition.csv')\n",
    "df.head()"
   ]
  },
  {
   "cell_type": "markdown",
   "id": "b50b49f8",
   "metadata": {},
   "source": [
    "# Step 1 - Parsed table"
   ]
  },
  {
   "cell_type": "code",
   "execution_count": 3,
   "id": "4c1f1b4a",
   "metadata": {},
   "outputs": [
    {
     "name": "stdout",
     "output_type": "stream",
     "text": [
      "length of new_Df 1470\n"
     ]
    },
    {
     "data": {
      "text/html": [
       "<div>\n",
       "<style scoped>\n",
       "    .dataframe tbody tr th:only-of-type {\n",
       "        vertical-align: middle;\n",
       "    }\n",
       "\n",
       "    .dataframe tbody tr th {\n",
       "        vertical-align: top;\n",
       "    }\n",
       "\n",
       "    .dataframe thead th {\n",
       "        text-align: right;\n",
       "    }\n",
       "</style>\n",
       "<table border=\"1\" class=\"dataframe\">\n",
       "  <thead>\n",
       "    <tr style=\"text-align: right;\">\n",
       "      <th></th>\n",
       "      <th>Age</th>\n",
       "      <th>Gender</th>\n",
       "      <th>Attrition</th>\n",
       "      <th>Hourly_rate</th>\n",
       "      <th>ID</th>\n",
       "    </tr>\n",
       "  </thead>\n",
       "  <tbody>\n",
       "    <tr>\n",
       "      <th>0</th>\n",
       "      <td>2</td>\n",
       "      <td>0</td>\n",
       "      <td>1</td>\n",
       "      <td>3</td>\n",
       "      <td>134f8d11-70bc-4876-bfa4-96f806ba5a05</td>\n",
       "    </tr>\n",
       "    <tr>\n",
       "      <th>1</th>\n",
       "      <td>3</td>\n",
       "      <td>1</td>\n",
       "      <td>0</td>\n",
       "      <td>1</td>\n",
       "      <td>2e9646f2-80cb-4712-9bc8-326de87fa442</td>\n",
       "    </tr>\n",
       "    <tr>\n",
       "      <th>2</th>\n",
       "      <td>2</td>\n",
       "      <td>1</td>\n",
       "      <td>1</td>\n",
       "      <td>3</td>\n",
       "      <td>3d05127d-efb7-4ec0-85e2-1d625e644463</td>\n",
       "    </tr>\n",
       "    <tr>\n",
       "      <th>3</th>\n",
       "      <td>1</td>\n",
       "      <td>0</td>\n",
       "      <td>0</td>\n",
       "      <td>1</td>\n",
       "      <td>165fba04-eedd-45be-83f6-8f0fa59e0864</td>\n",
       "    </tr>\n",
       "    <tr>\n",
       "      <th>4</th>\n",
       "      <td>1</td>\n",
       "      <td>1</td>\n",
       "      <td>0</td>\n",
       "      <td>0</td>\n",
       "      <td>47757ea9-5840-45cd-bfbc-f6c4f8d51765</td>\n",
       "    </tr>\n",
       "  </tbody>\n",
       "</table>\n",
       "</div>"
      ],
      "text/plain": [
       "   Age  Gender  Attrition  Hourly_rate                                    ID\n",
       "0    2       0          1            3  134f8d11-70bc-4876-bfa4-96f806ba5a05\n",
       "1    3       1          0            1  2e9646f2-80cb-4712-9bc8-326de87fa442\n",
       "2    2       1          1            3  3d05127d-efb7-4ec0-85e2-1d625e644463\n",
       "3    1       0          0            1  165fba04-eedd-45be-83f6-8f0fa59e0864\n",
       "4    1       1          0            0  47757ea9-5840-45cd-bfbc-f6c4f8d51765"
      ]
     },
     "execution_count": 3,
     "metadata": {},
     "output_type": "execute_result"
    }
   ],
   "source": [
    "new_df = pd.DataFrame(columns=[ 'Age', 'Gender', 'Attrition', 'Hourly_rate'])\n",
    "\n",
    "# Age\n",
    "new_df['Age'] = np.where((18 <= df['Age'])&(df['Age'] <=25), 0,  \n",
    "                                np.where((26 <= df['Age'])&(df['Age'] <=35), 1, \n",
    "                                         np.where((36 <= df['Age'])&(df['Age'] <=45), 2, \n",
    "                                                  np.where((46 <= df['Age'])&(df['Age'] <=55), 3, \n",
    "                                                           np.where(55 < df['Age'], 4, df['Age'])))))\n",
    "\n",
    "# HourlyRate \n",
    "new_df['Hourly_rate'] = np.where((30 <= df['HourlyRate'])&(df['HourlyRate'] <= 50), 0,  \n",
    "                                    np.where((51 <= df['HourlyRate'])&(df['HourlyRate'] <= 70), 1, \n",
    "                                         np.where((71 <= df['HourlyRate'])&(df['HourlyRate'] <= 90), 2, \n",
    "                                                  np.where(91 <= df['HourlyRate'], 3, df['HourlyRate']))))\n",
    "# Gender\n",
    "new_df['Gender'] = np.where(df['Gender'] == 'Female', 0, 1)\n",
    "\n",
    "# Attrition\n",
    "new_df['Attrition'] = np.where(df['Attrition'] == 'No', 0, 1)\n",
    "\n",
    "# generate unique ids\n",
    "ids = [uuid.uuid4() for _ in range(len(new_df))]\n",
    "# add ids as a new column to the dataframe\n",
    "new_df['ID'] = ids\n",
    "\n",
    "print(\"length of new_Df\", len(new_df))\n",
    "new_df.head()"
   ]
  },
  {
   "cell_type": "markdown",
   "id": "0c642651",
   "metadata": {},
   "source": [
    "# Step 2 - Count Frequency"
   ]
  },
  {
   "cell_type": "code",
   "execution_count": 4,
   "id": "bcda4a4d",
   "metadata": {},
   "outputs": [
    {
     "name": "stdout",
     "output_type": "stream",
     "text": [
      "Frequency Table for Age vs. Attrition:             ID     \n",
      "Attrition    0    1\n",
      "Age                \n",
      "0           79   44\n",
      "1          490  116\n",
      "2          425   43\n",
      "3          200   26\n",
      "4           39    8\n"
     ]
    },
    {
     "data": {
      "text/plain": [
       "Text(0, 0.5, 'Count')"
      ]
     },
     "execution_count": 4,
     "metadata": {},
     "output_type": "execute_result"
    },
    {
     "data": {
      "image/png": "[encoded data removed]",
      "text/plain": [
       "<Figure size 1000x500 with 1 Axes>"
      ]
     },
     "metadata": {},
     "output_type": "display_data"
    }
   ],
   "source": [
    "# create a pivot table for Age vs. Attrition\n",
    "pivot_table_AgeAttrition = pd.pivot_table(new_df, values=['ID'], index=['Age'], columns=['Attrition'], aggfunc='count')\n",
    "print(\"Frequency Table for Age vs. Attrition:\", pivot_table_AgeAttrition)\n",
    "ax_AgeAttrition = pivot_table_AgeAttrition.plot(kind='bar', figsize=(10, 5), alpha=0.8)\n",
    "ax_AgeAttrition.set_ylabel('Count')"
   ]
  },
  {
   "cell_type": "code",
   "execution_count": 5,
   "id": "e654e342",
   "metadata": {},
   "outputs": [
    {
     "name": "stdout",
     "output_type": "stream",
     "text": [
      "Frequency Table for Age vs. Hourly Rate:               ID              \n",
      "Hourly_rate    0    1    2   3\n",
      "Age                           \n",
      "0             36   39   25  23\n",
      "1            179  164  180  83\n",
      "2            126  125  146  71\n",
      "3             60   64   67  35\n",
      "4              8   16   16   7\n"
     ]
    },
    {
     "data": {
      "text/plain": [
       "Text(0, 0.5, 'Count')"
      ]
     },
     "execution_count": 5,
     "metadata": {},
     "output_type": "execute_result"
    },
    {
     "data": {
      "image/png": "[encoded data removed]",
      "text/plain": [
       "<Figure size 1000x500 with 1 Axes>"
      ]
     },
     "metadata": {},
     "output_type": "display_data"
    }
   ],
   "source": [
    "# create a pivot table for Age vs. Hourly Rate\n",
    "pivot_table_AgeHourlyRate = pd.pivot_table(new_df, values=['ID'], index=['Age'], columns=['Hourly_rate'], aggfunc='count')\n",
    "print(\"Frequency Table for Age vs. Hourly Rate:\", pivot_table_AgeHourlyRate)\n",
    "ax_AgeHourlyRate = pivot_table_AgeHourlyRate.plot(kind='bar', figsize=(10, 5), alpha=0.8)\n",
    "ax_AgeHourlyRate.set_ylabel('Count')"
   ]
  },
  {
   "cell_type": "code",
   "execution_count": 6,
   "id": "75d9f1db",
   "metadata": {},
   "outputs": [
    {
     "name": "stdout",
     "output_type": "stream",
     "text": [
      "Frequency Table for Sex vs. Attrition:             ID     \n",
      "Attrition    0    1\n",
      "Gender             \n",
      "0          501   87\n",
      "1          732  150\n"
     ]
    },
    {
     "data": {
      "text/plain": [
       "Text(0, 0.5, 'Count')"
      ]
     },
     "execution_count": 6,
     "metadata": {},
     "output_type": "execute_result"
    },
    {
     "data": {
      "image/png": "[encoded data removed]",
      "text/plain": [
       "<Figure size 500x500 with 1 Axes>"
      ]
     },
     "metadata": {},
     "output_type": "display_data"
    }
   ],
   "source": [
    "# create a pivot table for Sex vs. Attrition:\n",
    "pivot_table_SexAttrition = pd.pivot_table(new_df, values=['ID'], index=['Gender'], columns=['Attrition'], aggfunc='count')\n",
    "print(\"Frequency Table for Sex vs. Attrition:\", pivot_table_SexAttrition)\n",
    "ax_SexAttrition = pivot_table_SexAttrition.plot(kind='bar', figsize=(5, 5), alpha=0.8)\n",
    "ax_SexAttrition.set_ylabel('Count')"
   ]
  },
  {
   "cell_type": "code",
   "execution_count": 7,
   "id": "9a43a06f",
   "metadata": {},
   "outputs": [
    {
     "name": "stdout",
     "output_type": "stream",
     "text": [
      "Frequency Table for Sex vs. Hourly Rate:                ID               \n",
      "Hourly_rate    0    1    2    3\n",
      "Gender                         \n",
      "0            163  158  175   92\n",
      "1            246  250  259  127\n"
     ]
    },
    {
     "data": {
      "text/plain": [
       "Text(0, 0.5, 'Count')"
      ]
     },
     "execution_count": 7,
     "metadata": {},
     "output_type": "execute_result"
    },
    {
     "data": {
      "image/png": "[encoded data removed]",
      "text/plain": [
       "<Figure size 500x500 with 1 Axes>"
      ]
     },
     "metadata": {},
     "output_type": "display_data"
    }
   ],
   "source": [
    "# create a pivot table for Sex vs. Hourly Rate\n",
    "pivot_table_SexHourlyRate = pd.pivot_table(new_df, values=['ID'], index=['Gender'], columns=['Hourly_rate'], aggfunc='count')\n",
    "print(\"Frequency Table for Sex vs. Hourly Rate: \", pivot_table_SexHourlyRate)\n",
    "ax_SexHourlyRate = pivot_table_SexHourlyRate.plot(kind='bar', figsize=(5, 5), alpha=0.8)\n",
    "ax_SexHourlyRate.set_ylabel('Count')"
   ]
  },
  {
   "cell_type": "markdown",
   "id": "8c5165ac",
   "metadata": {},
   "source": [
    "# Step 3 - Fairness and Bias Analysis"
   ]
  },
  {
   "cell_type": "code",
   "execution_count": 8,
   "id": "48524b83",
   "metadata": {},
   "outputs": [
    {
     "name": "stdout",
     "output_type": "stream",
     "text": [
      "Original dataframe:    Age  Gender  Attrition  Hourly_rate                                    ID\n",
      "0    2       0          1            3  134f8d11-70bc-4876-bfa4-96f806ba5a05\n",
      "1    3       1          0            1  2e9646f2-80cb-4712-9bc8-326de87fa442\n",
      "2    2       1          1            3  3d05127d-efb7-4ec0-85e2-1d625e644463\n",
      "3    1       0          0            1  165fba04-eedd-45be-83f6-8f0fa59e0864\n",
      "4    1       1          0            0  47757ea9-5840-45cd-bfbc-f6c4f8d51765\n"
     ]
    }
   ],
   "source": [
    "print(\"Original dataframe:\", new_df.head())\n",
    "\n",
    "# Identify the protected class: age 18-25\n",
    "protected = new_df[(new_df['Age'] == 0)]\n",
    "unprotected = new_df[(new_df['Age'] != 0)]\n",
    "\n",
    "# Identify the protected class for sex: 0\n",
    "protected_sex = new_df[(new_df['Gender'] == 1)]\n",
    "unprotected_sex = new_df[(new_df['Gender'] != 1)]"
   ]
  },
  {
   "cell_type": "markdown",
   "id": "159bd47d",
   "metadata": {},
   "source": [
    "## DI and SPD for original dataset"
   ]
  },
  {
   "cell_type": "code",
   "execution_count": 9,
   "id": "d4fc800b",
   "metadata": {},
   "outputs": [
    {
     "name": "stdout",
     "output_type": "stream",
     "text": [
      "Age vs. Attrition:\n",
      "DisparateImpact_AgeAttrition 2.4966510805004427\n",
      "StatisticalParityDifference_AgeAttrition 0.21444221123725715\n"
     ]
    }
   ],
   "source": [
    "print(\"Age vs. Attrition:\")\n",
    "DisparateImpact_AgeAttrition = new_df.loc[protected.index, 'Attrition'].mean() / new_df.loc[unprotected.index, 'Attrition'].mean()\n",
    "StatisticalParityDifference_AgeAttrition = new_df.loc[protected.index, 'Attrition'].mean() - new_df.loc[unprotected.index, 'Attrition'].mean()\n",
    "\n",
    "print(\"DisparateImpact_AgeAttrition\", DisparateImpact_AgeAttrition)\n",
    "print(\"StatisticalParityDifference_AgeAttrition\", StatisticalParityDifference_AgeAttrition)"
   ]
  },
  {
   "cell_type": "code",
   "execution_count": 10,
   "id": "88e362fa",
   "metadata": {},
   "outputs": [
    {
     "name": "stdout",
     "output_type": "stream",
     "text": [
      "Age vs. HourlyRate: \n",
      "DisparateImpact_AgeHourlyRate 0.9748127791137067\n",
      "StatisticalParityDifference_AgeHourlyRate -0.033190287359443627\n"
     ]
    }
   ],
   "source": [
    "print(\"Age vs. HourlyRate: \")\n",
    "DisparateImpact_AgeHourlyRate = new_df.loc[protected.index, 'Hourly_rate'].mean() / new_df.loc[unprotected.index, 'Hourly_rate'].mean()\n",
    "StatisticalParityDifference_AgeHourlyRate = new_df.loc[protected.index, 'Hourly_rate'].mean() - new_df.loc[unprotected.index, 'Hourly_rate'].mean()\n",
    "\n",
    "print(\"DisparateImpact_AgeHourlyRate\", DisparateImpact_AgeHourlyRate)\n",
    "print(\"StatisticalParityDifference_AgeHourlyRate\", StatisticalParityDifference_AgeHourlyRate)"
   ]
  },
  {
   "cell_type": "code",
   "execution_count": 11,
   "id": "da032ff9",
   "metadata": {},
   "outputs": [
    {
     "name": "stdout",
     "output_type": "stream",
     "text": [
      "Sex vs. Attrition: \n",
      "DisparateImpact_SexAttrition 1.1494252873563218\n",
      "StatisticalParityDifference_SexAttrition 0.022108843537414963\n"
     ]
    }
   ],
   "source": [
    "print(\"Sex vs. Attrition: \")\n",
    "DisparateImpact_SexAttrition = new_df.loc[protected_sex.index, 'Attrition'].mean() / new_df.loc[unprotected_sex.index, 'Attrition'].mean()\n",
    "StatisticalParityDifference_SexAttrition = new_df.loc[protected_sex.index, 'Attrition'].mean() - new_df.loc[unprotected_sex.index, 'Attrition'].mean()\n",
    "\n",
    "print(\"DisparateImpact_SexAttrition\", DisparateImpact_SexAttrition)\n",
    "print(\"StatisticalParityDifference_SexAttrition\", StatisticalParityDifference_SexAttrition)"
   ]
  },
  {
   "cell_type": "code",
   "execution_count": 12,
   "id": "b15eea37",
   "metadata": {},
   "outputs": [
    {
     "name": "stdout",
     "output_type": "stream",
     "text": [
      "Sex vs. HourlyRate: \n",
      "DisparateImpact_SexHourlyRate 0.9770408163265306\n",
      "StatisticalParityDifference_SexHourlyRate -0.030612244897959107\n"
     ]
    }
   ],
   "source": [
    "print(\"Sex vs. HourlyRate: \")\n",
    "DisparateImpact_SexHourlyRate = new_df.loc[protected_sex.index, 'Hourly_rate'].mean() / new_df.loc[unprotected_sex.index, 'Hourly_rate'].mean()\n",
    "StatisticalParityDifference_SexHourlyRate = new_df.loc[protected_sex.index, 'Hourly_rate'].mean() - new_df.loc[unprotected_sex.index, 'Hourly_rate'].mean()\n",
    "\n",
    "print(\"DisparateImpact_SexHourlyRate\", DisparateImpact_SexHourlyRate)\n",
    "print(\"StatisticalParityDifference_SexHourlyRate\", StatisticalParityDifference_SexHourlyRate)"
   ]
  },
  {
   "cell_type": "markdown",
   "id": "5ef61286",
   "metadata": {},
   "source": [
    "## Customized Reweighting Algorithms"
   ]
  },
  {
   "cell_type": "code",
   "execution_count": 30,
   "id": "edd8c1d9",
   "metadata": {},
   "outputs": [
    {
     "name": "stdout",
     "output_type": "stream",
     "text": [
      "unprotected_prob_t 1.0000000000000004\n",
      "protected_prob_t 1.0\n"
     ]
    }
   ],
   "source": [
    "orig_dataset = new_df.copy()\n",
    "\n",
    "# Calculate the weights based on an inverse\n",
    "unprotected_prob = orig_dataset.loc[unprotected.index, 'Attrition'].mean()\n",
    "protected_prob = orig_dataset.loc[protected.index, 'Attrition'].mean()\n",
    "\n",
    "orig_dataset.loc[unprotected.index, 'Weight'] = 1 / unprotected_prob\n",
    "orig_dataset.loc[protected.index, 'Weight'] = 1 / protected_prob\n",
    "\n",
    "# Come up with the transformed dataset\n",
    "transformed_df_3 = orig_dataset.copy()\n",
    "transformed_df_3['Attrition'] = transformed_df_3['Attrition'] * transformed_df_3['Weight'] \n",
    "\n",
    "# Calculate the sample weights based on inverse likelihood\n",
    "unprotected_prob_t = transformed_df_3.loc[unprotected.index, 'Attrition'].mean()\n",
    "protected_prob_t = transformed_df_3.loc[protected.index, 'Attrition'].mean()\n",
    "\n",
    "print(\"unprotected_prob_t\", unprotected_prob_t)\n",
    "print(\"protected_prob_t\", protected_prob_t)"
   ]
  },
  {
   "cell_type": "code",
   "execution_count": 14,
   "id": "56d71012",
   "metadata": {},
   "outputs": [
    {
     "name": "stdout",
     "output_type": "stream",
     "text": [
      "Transformed dataframe for Step 3:    Age  Gender  Attrition  Hourly_rate                                    ID  \\\n",
      "0    2       0   6.979275            3  134f8d11-70bc-4876-bfa4-96f806ba5a05   \n",
      "1    3       1   0.000000            1  2e9646f2-80cb-4712-9bc8-326de87fa442   \n",
      "2    2       1   6.979275            3  3d05127d-efb7-4ec0-85e2-1d625e644463   \n",
      "3    1       0   0.000000            1  165fba04-eedd-45be-83f6-8f0fa59e0864   \n",
      "4    1       1   0.000000            0  47757ea9-5840-45cd-bfbc-f6c4f8d51765   \n",
      "\n",
      "     Weight  \n",
      "0  6.979275  \n",
      "1  6.979275  \n",
      "2  6.979275  \n",
      "3  6.979275  \n",
      "4  6.979275  \n"
     ]
    }
   ],
   "source": [
    "print(\"Transformed dataframe for Step 3:\", transformed_df_3.head())"
   ]
  },
  {
   "cell_type": "code",
   "execution_count": 15,
   "id": "9f86778c",
   "metadata": {},
   "outputs": [
    {
     "name": "stdout",
     "output_type": "stream",
     "text": [
      "DisparateImpact_AgeAttrition_t3 0.9999999999999996\n",
      "StatisticalParityDifference_AgeAttrition_t3 -4.440892098500626e-16\n"
     ]
    }
   ],
   "source": [
    "DisparateImpact_AgeAttrition_t3 = protected_prob_t / unprotected_prob_t\n",
    "StatisticalParityDifference_AgeAttrition_t3 = protected_prob_t - unprotected_prob_t\n",
    "\n",
    "print(\"DisparateImpact_AgeAttrition_t3\", DisparateImpact_AgeAttrition_t3)\n",
    "print(\"StatisticalParityDifference_AgeAttrition_t3\", StatisticalParityDifference_AgeAttrition_t3)"
   ]
  },
  {
   "cell_type": "markdown",
   "id": "8e58475a",
   "metadata": {},
   "source": [
    "# Step 4"
   ]
  },
  {
   "cell_type": "code",
   "execution_count": 25,
   "id": "e6340078",
   "metadata": {},
   "outputs": [
    {
     "name": "stdout",
     "output_type": "stream",
     "text": [
      "Train set shape: (735, 5)\n",
      "Test set shape: (735, 5)\n"
     ]
    }
   ],
   "source": [
    "# Split the dataset into training and testing sets\n",
    "train_df, test_df = train_test_split(new_df, test_size=0.5, random_state=42)\n",
    "# Print the shapes of the resulting train and test sets to verify that the split was successful\n",
    "print(\"Train set shape:\", train_df.shape)\n",
    "print(\"Test set shape:\", test_df.shape)"
   ]
  },
  {
   "cell_type": "code",
   "execution_count": 28,
   "id": "ad7625a9",
   "metadata": {},
   "outputs": [
    {
     "name": "stdout",
     "output_type": "stream",
     "text": [
      "Original DI: 3.1272893772893773\n",
      "Original SPD: 0.2616285617749747\n"
     ]
    }
   ],
   "source": [
    "# Calculate the original di\n",
    "original_di = test_df[test_df['Age'] == 0]['Attrition'].mean() / test_df[test_df['Age'] != 0]['Attrition'].mean()\n",
    "# Calculate the original spd\n",
    "original_spd = test_df[test_df['Age'] == 0]['Attrition'].mean() - test_df[test_df['Age'] != 0]['Attrition'].mean()\n",
    "\n",
    "print(\"Original DI:\", original_di)\n",
    "print(\"Original SPD:\", original_spd)"
   ]
  },
  {
   "cell_type": "markdown",
   "id": "03baf931",
   "metadata": {},
   "source": [
    "## Transformation of the dataset"
   ]
  },
  {
   "cell_type": "code",
   "execution_count": 18,
   "id": "fa70616e",
   "metadata": {},
   "outputs": [
    {
     "name": "stdout",
     "output_type": "stream",
     "text": [
      "privileged_df 123\n",
      "unprivileged_df 1347\n",
      "df_balanced       Age  Gender  Attrition  Hourly_rate  \\\n",
      "1217    0       1          0            1   \n",
      "345     0       1          0            2   \n",
      "1436    0       1          0            1   \n",
      "34      0       1          0            1   \n",
      "638     0       1          0            2   \n",
      "\n",
      "                                        ID  \n",
      "1217  b598f937-506f-4402-98b0-290ad1b5162d  \n",
      "345   74c94598-3208-4b17-bb89-a6f1ac4190af  \n",
      "1436  0400c935-c051-40c6-887e-6ea94c1d565f  \n",
      "34    4dc252ad-20fc-4b18-9c75-e663a4d564f2  \n",
      "638   a998c9c6-d68d-4189-b563-92c3ac3de045  \n"
     ]
    }
   ],
   "source": [
    "from sklearn.utils import resample\n",
    "\n",
    "# Copy new_df to transformed_df_3\n",
    "transformed_df_4 = new_df.copy()\n",
    "\n",
    "# Identify the privileged age group\n",
    "privileged_df = transformed_df_4.loc[protected.index]\n",
    "print(\"privileged_df\", len(privileged_df))\n",
    "# Identify the unprivileged age group\n",
    "unprivileged_df = transformed_df_4.loc[unprotected.index]\n",
    "print(\"unprivileged_df\", len(unprivileged_df))\n",
    "\n",
    "# Create another df using the original privileged_df which has\n",
    "# 1. random duplicates of the original privileged_df to be included;\n",
    "# 2. the size of oversampled_privileged_df = len(unprivileged_df) - len(privileged_df)\n",
    "oversampled_privileged_df = resample(privileged_df, \n",
    "                                     replace = True, \n",
    "                                     n_samples = unprivileged_df.shape[0] - len(privileged_df), \n",
    "                                     random_state = 3)\n",
    "\n",
    "# Assigned the Attrition values to 0 in the oversampled_privileged_df\n",
    "# to not introduce more YESs (1)\n",
    "oversampled_privileged_df['Attrition'] = 0\n",
    "\n",
    "# cancat oversampled_privileged_df, unprivileged_df, privileged_df\n",
    "# to create a balanced df and finish the transformation\n",
    "transformed_df_4 = pd.concat([oversampled_privileged_df, unprivileged_df, privileged_df])\n",
    "\n",
    "print(\"df_balanced\", transformed_df_4.head())"
   ]
  },
  {
   "cell_type": "code",
   "execution_count": 19,
   "id": "4fc3a633",
   "metadata": {},
   "outputs": [
    {
     "name": "stdout",
     "output_type": "stream",
     "text": [
      "Transformed Train set shape: (1347, 5)\n",
      "Transformed Test set shape: (1347, 5)\n"
     ]
    }
   ],
   "source": [
    "# Split the transformed dataset into training and testing sets\n",
    "train_df_t, test_df_t = train_test_split(transformed_df_4, test_size=0.5, random_state=3)\n",
    "# Print the shapes of the resulting train and test sets to verify that the split was successful\n",
    "print(\"Transformed Train set shape:\", train_df_t.shape)\n",
    "print(\"Transformed Test set shape:\", test_df_t.shape)"
   ]
  },
  {
   "cell_type": "code",
   "execution_count": 29,
   "id": "5346ac19",
   "metadata": {},
   "outputs": [
    {
     "name": "stdout",
     "output_type": "stream",
     "text": [
      "Age vs. Attrition for transformed testing:\n",
      "Transformed DI: 0.19944454904914327\n",
      "Transformed SPD: -0.11248462240565102\n"
     ]
    }
   ],
   "source": [
    "print(\"Age vs. Attrition for transformed testing:\")\n",
    "# Calculate the transformed di\n",
    "transformed_di = test_df_t[test_df_t['Age'] == 0]['Attrition'].mean() / test_df_t[test_df_t['Age'] != 0]['Attrition'].mean()\n",
    "# Calculate the transformed spd\n",
    "transformed_spd = test_df_t[test_df_t['Age'] == 0]['Attrition'].mean() - test_df_t[test_df_t['Age'] != 0]['Attrition'].mean()\n",
    "\n",
    "print(\"Transformed DI:\", transformed_di)\n",
    "print(\"Transformed SPD:\", transformed_spd)"
   ]
  }
 ],
 "metadata": {
  "kernelspec": {
   "display_name": "Python 3 (ipykernel)",
   "language": "python",
   "name": "python3"
  },
  "language_info": {
   "codemirror_mode": {
    "name": "ipython",
    "version": 3
   },
   "file_extension": ".py",
   "mimetype": "text/x-python",
   "name": "python",
   "nbconvert_exporter": "python",
   "pygments_lexer": "ipython3",
   "version": "3.11.2"
  }
 },
 "nbformat": 4,
 "nbformat_minor": 5
}
